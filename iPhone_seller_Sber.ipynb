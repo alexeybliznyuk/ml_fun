{
  "nbformat": 4,
  "nbformat_minor": 0,
  "metadata": {
    "colab": {
      "provenance": []
    },
    "kernelspec": {
      "name": "python3",
      "display_name": "Python 3"
    },
    "language_info": {
      "name": "python"
    }
  },
  "cells": [
    {
      "cell_type": "markdown",
      "source": [
        "#What are we doing?"
      ],
      "metadata": {
        "id": "Sh-fDkmbxqm_"
      }
    },
    {
      "cell_type": "markdown",
      "source": [
        "We trying to make an AI agent \"iPhone seller\" by using gigachain API\n",
        "source: https://developers.sber.ru/docs/ru/gigachain/guides/gigachat-phone-seller-agent"
      ],
      "metadata": {
        "id": "iPol1LoTrkVg"
      }
    },
    {
      "cell_type": "markdown",
      "source": [
        "#Installing main library"
      ],
      "metadata": {
        "id": "M3qnKPIPpa_k"
      }
    },
    {
      "cell_type": "code",
      "source": [
        "pip install langchain-gigachat langgraph"
      ],
      "metadata": {
        "colab": {
          "base_uri": "https://localhost:8080/"
        },
        "id": "ZZdvjDs4mO4Q",
        "outputId": "90f448d5-d7ea-4bfa-bf2b-3f9e68bf6248"
      },
      "execution_count": 2,
      "outputs": [
        {
          "output_type": "stream",
          "name": "stdout",
          "text": [
            "Collecting langchain-gigachat\n",
            "  Downloading langchain_gigachat-0.3.3-py3-none-any.whl.metadata (2.9 kB)\n",
            "Collecting langgraph\n",
            "  Downloading langgraph-0.2.69-py3-none-any.whl.metadata (17 kB)\n",
            "Collecting gigachat<0.2.0,>=0.1.37 (from langchain-gigachat)\n",
            "  Downloading gigachat-0.1.38-py3-none-any.whl.metadata (14 kB)\n",
            "Requirement already satisfied: langchain-core<0.4,>=0.3 in /usr/local/lib/python3.11/dist-packages (from langchain-gigachat) (0.3.32)\n",
            "Collecting types-requests<3.0,>=2.32 (from langchain-gigachat)\n",
            "  Downloading types_requests-2.32.0.20241016-py3-none-any.whl.metadata (1.9 kB)\n",
            "Collecting langgraph-checkpoint<3.0.0,>=2.0.10 (from langgraph)\n",
            "  Downloading langgraph_checkpoint-2.0.10-py3-none-any.whl.metadata (4.6 kB)\n",
            "Collecting langgraph-sdk<0.2.0,>=0.1.42 (from langgraph)\n",
            "  Downloading langgraph_sdk-0.1.51-py3-none-any.whl.metadata (1.8 kB)\n",
            "Collecting httpx<=0.27.2 (from gigachat<0.2.0,>=0.1.37->langchain-gigachat)\n",
            "  Downloading httpx-0.27.2-py3-none-any.whl.metadata (7.1 kB)\n",
            "Requirement already satisfied: pydantic>=1 in /usr/local/lib/python3.11/dist-packages (from gigachat<0.2.0,>=0.1.37->langchain-gigachat) (2.10.6)\n",
            "Requirement already satisfied: PyYAML>=5.3 in /usr/local/lib/python3.11/dist-packages (from langchain-core<0.4,>=0.3->langchain-gigachat) (6.0.2)\n",
            "Requirement already satisfied: jsonpatch<2.0,>=1.33 in /usr/local/lib/python3.11/dist-packages (from langchain-core<0.4,>=0.3->langchain-gigachat) (1.33)\n",
            "Requirement already satisfied: langsmith<0.4,>=0.1.125 in /usr/local/lib/python3.11/dist-packages (from langchain-core<0.4,>=0.3->langchain-gigachat) (0.3.2)\n",
            "Requirement already satisfied: packaging<25,>=23.2 in /usr/local/lib/python3.11/dist-packages (from langchain-core<0.4,>=0.3->langchain-gigachat) (24.2)\n",
            "Requirement already satisfied: tenacity!=8.4.0,<10.0.0,>=8.1.0 in /usr/local/lib/python3.11/dist-packages (from langchain-core<0.4,>=0.3->langchain-gigachat) (9.0.0)\n",
            "Requirement already satisfied: typing-extensions>=4.7 in /usr/local/lib/python3.11/dist-packages (from langchain-core<0.4,>=0.3->langchain-gigachat) (4.12.2)\n",
            "Requirement already satisfied: msgpack<2.0.0,>=1.1.0 in /usr/local/lib/python3.11/dist-packages (from langgraph-checkpoint<3.0.0,>=2.0.10->langgraph) (1.1.0)\n",
            "Requirement already satisfied: orjson>=3.10.1 in /usr/local/lib/python3.11/dist-packages (from langgraph-sdk<0.2.0,>=0.1.42->langgraph) (3.10.15)\n",
            "Requirement already satisfied: urllib3>=2 in /usr/local/lib/python3.11/dist-packages (from types-requests<3.0,>=2.32->langchain-gigachat) (2.3.0)\n",
            "Requirement already satisfied: anyio in /usr/local/lib/python3.11/dist-packages (from httpx<=0.27.2->gigachat<0.2.0,>=0.1.37->langchain-gigachat) (3.7.1)\n",
            "Requirement already satisfied: certifi in /usr/local/lib/python3.11/dist-packages (from httpx<=0.27.2->gigachat<0.2.0,>=0.1.37->langchain-gigachat) (2024.12.14)\n",
            "Requirement already satisfied: httpcore==1.* in /usr/local/lib/python3.11/dist-packages (from httpx<=0.27.2->gigachat<0.2.0,>=0.1.37->langchain-gigachat) (1.0.7)\n",
            "Requirement already satisfied: idna in /usr/local/lib/python3.11/dist-packages (from httpx<=0.27.2->gigachat<0.2.0,>=0.1.37->langchain-gigachat) (3.10)\n",
            "Requirement already satisfied: sniffio in /usr/local/lib/python3.11/dist-packages (from httpx<=0.27.2->gigachat<0.2.0,>=0.1.37->langchain-gigachat) (1.3.1)\n",
            "Requirement already satisfied: h11<0.15,>=0.13 in /usr/local/lib/python3.11/dist-packages (from httpcore==1.*->httpx<=0.27.2->gigachat<0.2.0,>=0.1.37->langchain-gigachat) (0.14.0)\n",
            "Requirement already satisfied: jsonpointer>=1.9 in /usr/local/lib/python3.11/dist-packages (from jsonpatch<2.0,>=1.33->langchain-core<0.4,>=0.3->langchain-gigachat) (3.0.0)\n",
            "Requirement already satisfied: requests<3,>=2 in /usr/local/lib/python3.11/dist-packages (from langsmith<0.4,>=0.1.125->langchain-core<0.4,>=0.3->langchain-gigachat) (2.32.3)\n",
            "Requirement already satisfied: requests-toolbelt<2.0.0,>=1.0.0 in /usr/local/lib/python3.11/dist-packages (from langsmith<0.4,>=0.1.125->langchain-core<0.4,>=0.3->langchain-gigachat) (1.0.0)\n",
            "Requirement already satisfied: zstandard<0.24.0,>=0.23.0 in /usr/local/lib/python3.11/dist-packages (from langsmith<0.4,>=0.1.125->langchain-core<0.4,>=0.3->langchain-gigachat) (0.23.0)\n",
            "Requirement already satisfied: annotated-types>=0.6.0 in /usr/local/lib/python3.11/dist-packages (from pydantic>=1->gigachat<0.2.0,>=0.1.37->langchain-gigachat) (0.7.0)\n",
            "Requirement already satisfied: pydantic-core==2.27.2 in /usr/local/lib/python3.11/dist-packages (from pydantic>=1->gigachat<0.2.0,>=0.1.37->langchain-gigachat) (2.27.2)\n",
            "Requirement already satisfied: charset-normalizer<4,>=2 in /usr/local/lib/python3.11/dist-packages (from requests<3,>=2->langsmith<0.4,>=0.1.125->langchain-core<0.4,>=0.3->langchain-gigachat) (3.4.1)\n",
            "Downloading langchain_gigachat-0.3.3-py3-none-any.whl (25 kB)\n",
            "Downloading langgraph-0.2.69-py3-none-any.whl (148 kB)\n",
            "\u001b[2K   \u001b[90m━━━━━━━━━━━━━━━━━━━━━━━━━━━━━━━━━━━━━━━━\u001b[0m \u001b[32m148.7/148.7 kB\u001b[0m \u001b[31m10.7 MB/s\u001b[0m eta \u001b[36m0:00:00\u001b[0m\n",
            "\u001b[?25hDownloading gigachat-0.1.38-py3-none-any.whl (62 kB)\n",
            "\u001b[2K   \u001b[90m━━━━━━━━━━━━━━━━━━━━━━━━━━━━━━━━━━━━━━━━\u001b[0m \u001b[32m63.0/63.0 kB\u001b[0m \u001b[31m5.5 MB/s\u001b[0m eta \u001b[36m0:00:00\u001b[0m\n",
            "\u001b[?25hDownloading langgraph_checkpoint-2.0.10-py3-none-any.whl (37 kB)\n",
            "Downloading langgraph_sdk-0.1.51-py3-none-any.whl (44 kB)\n",
            "\u001b[2K   \u001b[90m━━━━━━━━━━━━━━━━━━━━━━━━━━━━━━━━━━━━━━━━\u001b[0m \u001b[32m44.7/44.7 kB\u001b[0m \u001b[31m3.3 MB/s\u001b[0m eta \u001b[36m0:00:00\u001b[0m\n",
            "\u001b[?25hDownloading types_requests-2.32.0.20241016-py3-none-any.whl (15 kB)\n",
            "Downloading httpx-0.27.2-py3-none-any.whl (76 kB)\n",
            "\u001b[2K   \u001b[90m━━━━━━━━━━━━━━━━━━━━━━━━━━━━━━━━━━━━━━━━\u001b[0m \u001b[32m76.4/76.4 kB\u001b[0m \u001b[31m6.2 MB/s\u001b[0m eta \u001b[36m0:00:00\u001b[0m\n",
            "\u001b[?25hInstalling collected packages: types-requests, httpx, langgraph-sdk, gigachat, langgraph-checkpoint, langchain-gigachat, langgraph\n",
            "  Attempting uninstall: httpx\n",
            "    Found existing installation: httpx 0.28.1\n",
            "    Uninstalling httpx-0.28.1:\n",
            "      Successfully uninstalled httpx-0.28.1\n",
            "Successfully installed gigachat-0.1.38 httpx-0.27.2 langchain-gigachat-0.3.3 langgraph-0.2.69 langgraph-checkpoint-2.0.10 langgraph-sdk-0.1.51 types-requests-2.32.0.20241016\n"
          ]
        }
      ]
    },
    {
      "cell_type": "markdown",
      "source": [
        "#Base of smartphones we have"
      ],
      "metadata": {
        "id": "RYYTeR8Ap9as"
      }
    },
    {
      "cell_type": "code",
      "execution_count": 1,
      "metadata": {
        "id": "mWkp0FIolJvp"
      },
      "outputs": [],
      "source": [
        "stuff_database = [\n",
        "    {\n",
        "        \"name\": \"iPhone 8 mini\",\n",
        "        \"price\": 300,\n",
        "        \"memory\": 128,\n",
        "        \"ram\": 8,\n",
        "        \"camera\": 12,\n",
        "        \"description\": \"Самая дешевая модель iPhone\",\n",
        "    },\n",
        "    {\n",
        "        \"name\": \"iPhone 14\",\n",
        "        \"price\": 1000,\n",
        "        \"memory\": 128,\n",
        "        \"ram\": 8,\n",
        "        \"camera\": 12,\n",
        "        \"description\": \"Телефон будущего, уже сегодня!\",\n",
        "    },\n",
        "    {\n",
        "        \"name\": \"Samsung Galaxy S23\",\n",
        "        \"price\": 900,\n",
        "        \"memory\": 256,\n",
        "        \"ram\": 12,\n",
        "        \"camera\": 108,\n",
        "        \"description\": \"Камера такая острая, что сможет увидеть даже ваши ошибки\",\n",
        "    },\n",
        "    {\n",
        "        \"name\": \"Google Pixel 7\",\n",
        "        \"price\": 850,\n",
        "        \"memory\": 128,\n",
        "        \"ram\": 8,\n",
        "        \"camera\": 16,\n",
        "        \"description\": \"Для тех, кто хочет получить стоковый Android и хорошие фотки\",\n",
        "    },\n",
        "    {\n",
        "        \"name\": \"OnePlus 9T\",\n",
        "        \"price\": 700,\n",
        "        \"memory\": 128,\n",
        "        \"ram\": 8,\n",
        "        \"camera\": 48,\n",
        "        \"description\": \"Зарядка быстрее, чем ваш кофе\",\n",
        "    },\n",
        "    {\n",
        "        \"name\": \"Xiaomi Mi 12\",\n",
        "        \"price\": 600,\n",
        "        \"memory\": 128,\n",
        "        \"ram\": 6,\n",
        "        \"camera\": 64,\n",
        "        \"description\": \"Бюджетный флагман для ценителей вкуса\",\n",
        "    },\n",
        "    {\n",
        "        \"name\": \"Sony Xperia 3\",\n",
        "        \"price\": 1100,\n",
        "        \"memory\": 256,\n",
        "        \"ram\": 12,\n",
        "        \"camera\": 20,\n",
        "        \"description\": \"Телефон для тех, кто скучал по кнопке для камеры\",\n",
        "    },\n",
        "    {\n",
        "        \"name\": \"Huawei P60\",\n",
        "        \"price\": 800,\n",
        "        \"memory\": 128,\n",
        "        \"ram\": 8,\n",
        "        \"camera\": 50,\n",
        "        \"description\": \"Для любителей ночной съемки и без Google Play\",\n",
        "    },\n",
        "    {\n",
        "        \"name\": \"Nokia 10 PureView\",\n",
        "        \"price\": 750,\n",
        "        \"memory\": 128,\n",
        "        \"ram\": 6,\n",
        "        \"camera\": 48,\n",
        "        \"description\": \"Nokia вернулась, и у нее есть змейка!\",\n",
        "    },\n",
        "    {\n",
        "        \"name\": \"LG Velvet 2\",\n",
        "        \"price\": 650,\n",
        "        \"memory\": 128,\n",
        "        \"ram\": 8,\n",
        "        \"camera\": 32,\n",
        "        \"description\": \"Потому что жизнь хороша\",\n",
        "    },\n",
        "    {\n",
        "        \"name\": \"Asus ROG Phone 6\",\n",
        "        \"price\": 1000,\n",
        "        \"memory\": 512,\n",
        "        \"ram\": 16,\n",
        "        \"camera\": 64,\n",
        "        \"description\": \"Играй как профи, заряжай как новичок\",\n",
        "    },\n",
        "    {\n",
        "        \"name\": \"Motorola Edge Plus\",\n",
        "        \"price\": 700,\n",
        "        \"memory\": 128,\n",
        "        \"ram\": 8,\n",
        "        \"camera\": 108,\n",
        "        \"description\": \"Край к краю, пиксель к пикселю\",\n",
        "    },\n",
        "    {\n",
        "        \"name\": \"Realme X4 Pro\",\n",
        "        \"price\": 450,\n",
        "        \"memory\": 128,\n",
        "        \"ram\": 8,\n",
        "        \"camera\": 48,\n",
        "        \"description\": \"Экономия без потерь в качестве\",\n",
        "    },\n",
        "    {\n",
        "        \"name\": \"Oppo Find X4\",\n",
        "        \"price\": 900,\n",
        "        \"memory\": 256,\n",
        "        \"ram\": 12,\n",
        "        \"camera\": 50,\n",
        "        \"description\": \"Найди X, но без математики\",\n",
        "    },\n",
        "    {\n",
        "        \"name\": \"BlackBerry Secure\",\n",
        "        \"price\": 1200,\n",
        "        \"memory\": 128,\n",
        "        \"ram\": 8,\n",
        "        \"camera\": 12,\n",
        "        \"description\": \"Для тех, кто еще помнит, что такое физическая клавиатура\",\n",
        "    },\n",
        "    {\n",
        "        \"name\": \"Fairphone 4\",\n",
        "        \"price\": 500,\n",
        "        \"memory\": 64,\n",
        "        \"ram\": 4,\n",
        "        \"camera\": 12,\n",
        "        \"description\": \"Этичный выбор для заботливого потребителя\",\n",
        "    },\n",
        "]"
      ]
    },
    {
      "cell_type": "markdown",
      "source": [
        "#Initializing tools to get the information"
      ],
      "metadata": {
        "id": "t_LSmc2_qPly"
      }
    },
    {
      "cell_type": "code",
      "source": [
        "from typing import Dict\n",
        "\n",
        "from langchain.tools import tool\n",
        "\n",
        "\n",
        "@tool\n",
        "def get_all_phone_names() -> str:\n",
        "    \"\"\"Возвращает названия моделей всех телефонов через запятую\"\"\"\n",
        "    # Подсвечивает вызов функции зеленым цветом\n",
        "    print(\"\\033[92m\" + \"Bot requested get_all_phone_names()\" + \"\\033[0m\")\n",
        "    return \", \".join([stuff[\"name\"] for stuff in stuff_database])\n",
        "\n",
        "\n",
        "@tool\n",
        "def get_phone_data_by_name(name: str) -> Dict:\n",
        "    \"\"\"\n",
        "    Возвращает цену в долларах, характеристики и описание телефона по точному названию модели.\n",
        "\n",
        "    Args:\n",
        "        name (str): Точное название модели телефона.\n",
        "\n",
        "    Returns:\n",
        "        Dict: Словарь с информацией о телефоне (цена, характеристики и описание).\n",
        "    \"\"\"\n",
        "    # Подсвечивает вызов функции зеленым цветом\n",
        "    print(\"\\033[92m\" + f\"Bot requested get_phone_data_by_name({name})\" + \"\\033[0m\")\n",
        "    for stuff in stuff_database:\n",
        "        if stuff[\"name\"] == name.strip():\n",
        "            return stuff\n",
        "\n",
        "    return {\"error\": \"Телефон с таким названием не найден\"}"
      ],
      "metadata": {
        "id": "N87S_n1wmBM_"
      },
      "execution_count": 3,
      "outputs": []
    },
    {
      "cell_type": "markdown",
      "source": [],
      "metadata": {
        "id": "7qQrl9MgxoSH"
      }
    },
    {
      "cell_type": "markdown",
      "source": [
        "# Initializing tool to make orders"
      ],
      "metadata": {
        "id": "ODO8l0I1rdBT"
      }
    },
    {
      "cell_type": "code",
      "source": [
        "@tool\n",
        "def create_order(name: str, phone: str) -> None:\n",
        "    \"\"\"\n",
        "    Создает новый заказ на телефон.\n",
        "\n",
        "    Args:\n",
        "        name (str): Название телефона.\n",
        "        phone (str): Телефонный номер пользователя.\n",
        "\n",
        "    Returns:\n",
        "        str: Статус заказа.\n",
        "    \"\"\"\n",
        "    # Подсвечивает вызов функции зеленым цветом\n",
        "    print(\"\\033[92m\" + f\"Bot requested create_order({name}, {phone})\" + \"\\033[0m\")\n",
        "    print(f\"!!! NEW ORDER !!! {name} {phone}\")"
      ],
      "metadata": {
        "id": "DnkMYS01qO2r"
      },
      "execution_count": 5,
      "outputs": []
    },
    {
      "cell_type": "markdown",
      "source": [
        "# Tools' list"
      ],
      "metadata": {
        "id": "ZFmOHfMxtuLs"
      }
    },
    {
      "cell_type": "code",
      "source": [
        "tools = [get_all_phone_names, get_phone_data_by_name, create_order]"
      ],
      "metadata": {
        "id": "EibFx5gxrbtj"
      },
      "execution_count": 6,
      "outputs": []
    },
    {
      "cell_type": "markdown",
      "source": [
        "# System prompt\n"
      ],
      "metadata": {
        "id": "vQkJY82wuFqo"
      }
    },
    {
      "cell_type": "code",
      "source": [
        "system_prompt = \"Ты бот-продавец телефонов. Твоя задача продать телефон пользователю, получив от него заказ. Если тебе не хватает каких-то данных, запрашивай их у пользователя.\""
      ],
      "metadata": {
        "id": "nL9gGv_9t2HO"
      },
      "execution_count": 7,
      "outputs": []
    },
    {
      "cell_type": "markdown",
      "source": [
        "#Setting the agent"
      ],
      "metadata": {
        "id": "xF9XCUlKuz9J"
      }
    },
    {
      "cell_type": "code",
      "source": [
        "from langchain_gigachat.chat_models import GigaChat\n",
        "\n",
        "model = GigaChat(\n",
        "    credentials=\"ZjRlYjc2MTUtZjhlOS00MmUwLTk4MTUtZGNjM2M2ZGY4NjE1OmRlYTIzNGYwLTA3OGMtNGQ4Ni04ZTkwLWU4YzFmNDg1YzFhMQ==\",\n",
        "    scope=\"GIGACHAT_API_PERS\",\n",
        "    model=\"GigaChat-Pro\",\n",
        "    verify_ssl_certs=False,\n",
        ")"
      ],
      "metadata": {
        "id": "qUPF-fP4uKFs"
      },
      "execution_count": 9,
      "outputs": []
    },
    {
      "cell_type": "code",
      "source": [
        "from langgraph.prebuilt import create_react_agent\n",
        "from langgraph.checkpoint.memory import MemorySaver\n",
        "\n",
        "agent = create_react_agent(model,\n",
        "                           tools=tools,\n",
        "                           checkpointer=MemorySaver(),\n",
        "                           state_modifier=system_prompt)"
      ],
      "metadata": {
        "id": "w7ZPM8Hnu30Z"
      },
      "execution_count": 10,
      "outputs": []
    },
    {
      "cell_type": "markdown",
      "source": [
        "# Example of using"
      ],
      "metadata": {
        "id": "UGJp6LKAw5PB"
      }
    },
    {
      "cell_type": "code",
      "source": [
        "import time\n",
        "\n",
        "def chat(thread_id: str):\n",
        "    config = {\"configurable\": {\"thread_id\": thread_id}}\n",
        "    while(True):\n",
        "        rq = input(\"\\nHuman: \")\n",
        "        print(\"User: \", rq)\n",
        "        if rq == \"\":\n",
        "            break\n",
        "        resp = agent.invoke({\"messages\": [(\"user\", rq)]}, config=config)\n",
        "        print(\"Assistant: \", resp[\"messages\"][-1].content)\n",
        "        time.sleep(1) # For notebook capability\n",
        "\n",
        "chat(\"123\")"
      ],
      "metadata": {
        "colab": {
          "base_uri": "https://localhost:8080/",
          "height": 495
        },
        "collapsed": true,
        "id": "BmJk0TsFwxwK",
        "outputId": "a33d604b-6e66-45f3-db4d-ad8cd8e008aa"
      },
      "execution_count": 11,
      "outputs": [
        {
          "output_type": "stream",
          "name": "stdout",
          "text": [
            "\n",
            "Human: Привет, какие телефоны марки Apple есть?\n",
            "User:  Привет, какие телефоны марки Apple есть?\n",
            "\u001b[92mBot requested get_all_phone_names()\u001b[0m\n",
            "Assistant:  У нас есть следующие модели Apple: iPhone 8 mini, iPhone 14. Хотите узнать подробнее о какой-то из них?\n",
            "\n",
            "Human: Какой из них дешевле?\n",
            "User:  Какой из них дешевле?\n",
            "\u001b[92mBot requested get_phone_data_by_name(iPhone 8 mini)\u001b[0m\n",
            "Assistant:  Самая дешевая модель - это iPhone 8 mini. Его цена составляет 300 долларов. Вы хотите приобрести его?\n"
          ]
        },
        {
          "output_type": "error",
          "ename": "KeyboardInterrupt",
          "evalue": "Interrupted by user",
          "traceback": [
            "\u001b[0;31m---------------------------------------------------------------------------\u001b[0m",
            "\u001b[0;31mKeyboardInterrupt\u001b[0m                         Traceback (most recent call last)",
            "\u001b[0;32m<ipython-input-11-e6772580de44>\u001b[0m in \u001b[0;36m<cell line: 0>\u001b[0;34m()\u001b[0m\n\u001b[1;32m     12\u001b[0m         \u001b[0mtime\u001b[0m\u001b[0;34m.\u001b[0m\u001b[0msleep\u001b[0m\u001b[0;34m(\u001b[0m\u001b[0;36m1\u001b[0m\u001b[0;34m)\u001b[0m \u001b[0;31m# For notebook capability\u001b[0m\u001b[0;34m\u001b[0m\u001b[0;34m\u001b[0m\u001b[0m\n\u001b[1;32m     13\u001b[0m \u001b[0;34m\u001b[0m\u001b[0m\n\u001b[0;32m---> 14\u001b[0;31m \u001b[0mchat\u001b[0m\u001b[0;34m(\u001b[0m\u001b[0;34m\"123\"\u001b[0m\u001b[0;34m)\u001b[0m\u001b[0;34m\u001b[0m\u001b[0;34m\u001b[0m\u001b[0m\n\u001b[0m",
            "\u001b[0;32m<ipython-input-11-e6772580de44>\u001b[0m in \u001b[0;36mchat\u001b[0;34m(thread_id)\u001b[0m\n\u001b[1;32m      4\u001b[0m     \u001b[0mconfig\u001b[0m \u001b[0;34m=\u001b[0m \u001b[0;34m{\u001b[0m\u001b[0;34m\"configurable\"\u001b[0m\u001b[0;34m:\u001b[0m \u001b[0;34m{\u001b[0m\u001b[0;34m\"thread_id\"\u001b[0m\u001b[0;34m:\u001b[0m \u001b[0mthread_id\u001b[0m\u001b[0;34m}\u001b[0m\u001b[0;34m}\u001b[0m\u001b[0;34m\u001b[0m\u001b[0;34m\u001b[0m\u001b[0m\n\u001b[1;32m      5\u001b[0m     \u001b[0;32mwhile\u001b[0m\u001b[0;34m(\u001b[0m\u001b[0;32mTrue\u001b[0m\u001b[0;34m)\u001b[0m\u001b[0;34m:\u001b[0m\u001b[0;34m\u001b[0m\u001b[0;34m\u001b[0m\u001b[0m\n\u001b[0;32m----> 6\u001b[0;31m         \u001b[0mrq\u001b[0m \u001b[0;34m=\u001b[0m \u001b[0minput\u001b[0m\u001b[0;34m(\u001b[0m\u001b[0;34m\"\\nHuman: \"\u001b[0m\u001b[0;34m)\u001b[0m\u001b[0;34m\u001b[0m\u001b[0;34m\u001b[0m\u001b[0m\n\u001b[0m\u001b[1;32m      7\u001b[0m         \u001b[0mprint\u001b[0m\u001b[0;34m(\u001b[0m\u001b[0;34m\"User: \"\u001b[0m\u001b[0;34m,\u001b[0m \u001b[0mrq\u001b[0m\u001b[0;34m)\u001b[0m\u001b[0;34m\u001b[0m\u001b[0;34m\u001b[0m\u001b[0m\n\u001b[1;32m      8\u001b[0m         \u001b[0;32mif\u001b[0m \u001b[0mrq\u001b[0m \u001b[0;34m==\u001b[0m \u001b[0;34m\"\"\u001b[0m\u001b[0;34m:\u001b[0m\u001b[0;34m\u001b[0m\u001b[0;34m\u001b[0m\u001b[0m\n",
            "\u001b[0;32m/usr/local/lib/python3.11/dist-packages/ipykernel/kernelbase.py\u001b[0m in \u001b[0;36mraw_input\u001b[0;34m(self, prompt)\u001b[0m\n\u001b[1;32m    849\u001b[0m                 \u001b[0;34m\"raw_input was called, but this frontend does not support input requests.\"\u001b[0m\u001b[0;34m\u001b[0m\u001b[0;34m\u001b[0m\u001b[0m\n\u001b[1;32m    850\u001b[0m             )\n\u001b[0;32m--> 851\u001b[0;31m         return self._input_request(str(prompt),\n\u001b[0m\u001b[1;32m    852\u001b[0m             \u001b[0mself\u001b[0m\u001b[0;34m.\u001b[0m\u001b[0m_parent_ident\u001b[0m\u001b[0;34m,\u001b[0m\u001b[0;34m\u001b[0m\u001b[0;34m\u001b[0m\u001b[0m\n\u001b[1;32m    853\u001b[0m             \u001b[0mself\u001b[0m\u001b[0;34m.\u001b[0m\u001b[0m_parent_header\u001b[0m\u001b[0;34m,\u001b[0m\u001b[0;34m\u001b[0m\u001b[0;34m\u001b[0m\u001b[0m\n",
            "\u001b[0;32m/usr/local/lib/python3.11/dist-packages/ipykernel/kernelbase.py\u001b[0m in \u001b[0;36m_input_request\u001b[0;34m(self, prompt, ident, parent, password)\u001b[0m\n\u001b[1;32m    893\u001b[0m             \u001b[0;32mexcept\u001b[0m \u001b[0mKeyboardInterrupt\u001b[0m\u001b[0;34m:\u001b[0m\u001b[0;34m\u001b[0m\u001b[0;34m\u001b[0m\u001b[0m\n\u001b[1;32m    894\u001b[0m                 \u001b[0;31m# re-raise KeyboardInterrupt, to truncate traceback\u001b[0m\u001b[0;34m\u001b[0m\u001b[0;34m\u001b[0m\u001b[0m\n\u001b[0;32m--> 895\u001b[0;31m                 \u001b[0;32mraise\u001b[0m \u001b[0mKeyboardInterrupt\u001b[0m\u001b[0;34m(\u001b[0m\u001b[0;34m\"Interrupted by user\"\u001b[0m\u001b[0;34m)\u001b[0m \u001b[0;32mfrom\u001b[0m \u001b[0;32mNone\u001b[0m\u001b[0;34m\u001b[0m\u001b[0;34m\u001b[0m\u001b[0m\n\u001b[0m\u001b[1;32m    896\u001b[0m             \u001b[0;32mexcept\u001b[0m \u001b[0mException\u001b[0m \u001b[0;32mas\u001b[0m \u001b[0me\u001b[0m\u001b[0;34m:\u001b[0m\u001b[0;34m\u001b[0m\u001b[0;34m\u001b[0m\u001b[0m\n\u001b[1;32m    897\u001b[0m                 \u001b[0mself\u001b[0m\u001b[0;34m.\u001b[0m\u001b[0mlog\u001b[0m\u001b[0;34m.\u001b[0m\u001b[0mwarning\u001b[0m\u001b[0;34m(\u001b[0m\u001b[0;34m\"Invalid Message:\"\u001b[0m\u001b[0;34m,\u001b[0m \u001b[0mexc_info\u001b[0m\u001b[0;34m=\u001b[0m\u001b[0;32mTrue\u001b[0m\u001b[0;34m)\u001b[0m\u001b[0;34m\u001b[0m\u001b[0;34m\u001b[0m\u001b[0m\n",
            "\u001b[0;31mKeyboardInterrupt\u001b[0m: Interrupted by user"
          ]
        }
      ]
    },
    {
      "cell_type": "markdown",
      "source": [
        "#Chat example"
      ],
      "metadata": {
        "id": "jD2Mrl04xbaw"
      }
    },
    {
      "cell_type": "markdown",
      "source": [
        "\n",
        "Human: Привет, какие телефоны марки Apple есть?\n",
        "User:  Привет, какие телефоны марки Apple есть?\n",
        "Bot requested get_all_phone_names()\n",
        "Assistant:  У нас есть следующие модели Apple: iPhone 8 mini, iPhone 14. Хотите узнать подробнее о какой-то из них?\n",
        "\n",
        "Human: Какой из них дешевле?\n",
        "User:  Какой из них дешевле?\n",
        "Bot requested get_phone_data_by_name(iPhone 8 mini)\n",
        "Assistant:  Самая дешевая модель - это iPhone 8 mini. Его цена составляет 300 долларов. Вы хотите приобрести его?"
      ],
      "metadata": {
        "id": "hxWbZ1jJxVbM"
      }
    },
    {
      "cell_type": "code",
      "source": [],
      "metadata": {
        "id": "y9Y_H1F9w9Pc"
      },
      "execution_count": null,
      "outputs": []
    }
  ]
}